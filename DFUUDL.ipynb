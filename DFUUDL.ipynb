{
  "nbformat": 4,
  "nbformat_minor": 0,
  "metadata": {
    "colab": {
      "provenance": [],
      "authorship_tag": "ABX9TyNZSMtLCPbYFj39sqQAfvaL",
      "include_colab_link": true
    },
    "kernelspec": {
      "name": "python3",
      "display_name": "Python 3"
    },
    "language_info": {
      "name": "python"
    }
  },
  "cells": [
    {
      "cell_type": "markdown",
      "metadata": {
        "id": "view-in-github",
        "colab_type": "text"
      },
      "source": [
        "<a href=\"https://colab.research.google.com/github/Harish-Creates/Harish-Creates/blob/main/DFUUDL.ipynb\" target=\"_parent\"><img src=\"https://colab.research.google.com/assets/colab-badge.svg\" alt=\"Open In Colab\"/></a>"
      ]
    },
    {
      "cell_type": "code",
      "execution_count": 7,
      "metadata": {
        "colab": {
          "base_uri": "https://localhost:8080/"
        },
        "id": "Ws3NE08BkyLW",
        "outputId": "00970309-12bd-49a6-a032-b20c9a792e76"
      },
      "outputs": [
        {
          "output_type": "stream",
          "name": "stderr",
          "text": [
            "WARNING:tensorflow:No training configuration found in the save file, so the model was *not* compiled. Compile it manually.\n"
          ]
        },
        {
          "output_type": "stream",
          "name": "stdout",
          "text": [
            "1/1 [==============================] - 1s 820ms/step\n",
            "Grade 0 - Foot Ulcer\n",
            "Confidence Score:  94.75975 %"
          ]
        }
      ],
      "source": [
        "from keras.models import load_model\n",
        "from PIL import Image, ImageOps\n",
        "import numpy as np\n",
        "\n",
        "model = load_model('/content/keras_model.h5')\n",
        "labels = [\"Grade 0 - Foot Ulcer\", \"Higher Grade - Foot Ulcer\",\"Normal Skin\"]\n",
        "data = np.ndarray(shape=(1, 224, 224, 3), dtype=np.float32)\n",
        "\n",
        "# Replace this with the path to your image\n",
        "image = Image.open('test3.jpg')\n",
        "\n",
        "size = (224, 224)\n",
        "image = ImageOps.fit(image, size, Image.ANTIALIAS)\n",
        "image_array = np.asarray(image)\n",
        "normalized_image_array = (image_array.astype(np.float32) / 127.0) - 1\n",
        "data[0] = normalized_image_array\n",
        "prediction = model.predict(data)\n",
        "\n",
        "\n",
        "res=np.argmax(prediction)\n",
        "print(labels[res])\n",
        "\n",
        "\n",
        "\n",
        "# class_name = class_names[index]\n",
        "#print(\"Class: \", class_name)\n",
        "print(\"Confidence Score: \", max(prediction[0]*100),end=\" %\")\n"
      ]
    },
    {
      "cell_type": "code",
      "source": [],
      "metadata": {
        "id": "6xZnXSG2laOK"
      },
      "execution_count": null,
      "outputs": []
    }
  ]
}